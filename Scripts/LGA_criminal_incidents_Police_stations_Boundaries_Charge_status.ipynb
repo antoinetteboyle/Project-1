{
 "cells": [
  {
   "cell_type": "code",
   "execution_count": null,
   "id": "2a939ae7",
   "metadata": {},
   "outputs": [],
   "source": [
    "%matplotlib inline "
   ]
  },
  {
   "cell_type": "code",
   "execution_count": null,
   "id": "751bc92d",
   "metadata": {},
   "outputs": [],
   "source": [
    "import warnings\n",
    "import scipy.stats as st\n",
    "from scipy.stats import linregress\n",
    "import numpy as np\n",
    "import pandas as pd\n",
    "import matplotlib.pyplot as plt\n",
    "import time\n",
    "\n",
    "import matplotlib.animation as mpla\n",
    "import requests\n",
    "import json\n",
    "from pprint import pprint\n",
    "import geopandas as gpd\n",
    "\n",
    "warnings.filterwarnings(\"ignore\")"
   ]
  },
  {
   "cell_type": "markdown",
   "id": "d1be5531",
   "metadata": {},
   "source": [
    "# Find out charge status percentages by LGA"
   ]
  },
  {
   "cell_type": "code",
   "execution_count": null,
   "id": "9dc9b47d",
   "metadata": {
    "scrolled": false
   },
   "outputs": [],
   "source": [
    "xlsx = pd.ExcelFile(\"../Data/LGA_Criminal_Incidents_Year_Ending_September_2021.xlsx\")\n",
    "charge_status_df = pd.read_excel(xlsx, \"Table 05\")\n",
    "charge_status_df"
   ]
  },
  {
   "cell_type": "code",
   "execution_count": null,
   "id": "09b601e2",
   "metadata": {},
   "outputs": [],
   "source": [
    "# combining charges laid and no charges laid to Solved status\n",
    "charge_status_df[\"Charge Status\"] = charge_status_df[\"Charge Status\"].str.replace(\"Charges laid\" , \"Solved\")\n",
    "charge_status_df[\"Charge Status\"] = charge_status_df[\"Charge Status\"].str.replace(\"No charges laid\" , \"Solved\")\n",
    "charge_status_df"
   ]
  },
  {
   "cell_type": "code",
   "execution_count": null,
   "id": "9456d280",
   "metadata": {},
   "outputs": [],
   "source": [
    "# Add up new total columns\n",
    "charge_by_types = charge_status_df.groupby([\"Local Government Area\", \"Year\",\"Charge Status\"])\n",
    "total_incidents = charge_status_df.groupby([\"Local Government Area\", \"Year\"])\n",
    "charge_by_types_df = pd.DataFrame({\"Incidents Combined\" : charge_by_types[\"Incidents Recorded\"].sum().astype(int)})\n",
    "\n",
    "charge_by_types_df[\"Total Incidents-LGA\"] = total_incidents[\"Incidents Recorded\"].sum().astype(int)\n",
    "charge_by_types_df.reset_index(level = [0,1,2], inplace= True)                                \n",
    "charge_by_types_df"
   ]
  },
  {
   "cell_type": "code",
   "execution_count": null,
   "id": "250a2ea8",
   "metadata": {},
   "outputs": [],
   "source": [
    "# Calculate percentage charge status:\n",
    "charge_by_types_df[\"Status Percentage\"] = round(charge_by_types_df[\"Incidents Combined\"] \n",
    "                                                / charge_by_types_df[\"Total Incidents-LGA\"] * 100, 2)\n",
    "charge_by_types_df"
   ]
  },
  {
   "cell_type": "markdown",
   "id": "7e95b00b",
   "metadata": {},
   "source": [
    "# Combine police stations number and charge status"
   ]
  },
  {
   "cell_type": "code",
   "execution_count": null,
   "id": "dfea75f3",
   "metadata": {},
   "outputs": [],
   "source": [
    "population_df =  pd.read_csv(\"../output_data/Population_by_LGA_2012-2021.csv\")"
   ]
  },
  {
   "cell_type": "code",
   "execution_count": null,
   "id": "3ccf3adb",
   "metadata": {},
   "outputs": [],
   "source": [
    "population_df"
   ]
  },
  {
   "cell_type": "code",
   "execution_count": null,
   "id": "4a2e1cd8",
   "metadata": {},
   "outputs": [],
   "source": [
    "LGA_charge_status_df = pd.merge(population_df, charge_by_types_df , how = \"right\", on = [\"Year\", \"Local Government Area\"])\n",
    "LGA_charge_status_df"
   ]
  },
  {
   "cell_type": "code",
   "execution_count": null,
   "id": "6a5cf5de",
   "metadata": {
    "scrolled": true
   },
   "outputs": [],
   "source": [
    "LGA_charge_status_2021_df = LGA_charge_status_df.loc[LGA_charge_status_df[\"Year\"] == 2021]\n",
    "LGA_charge_status_2021_df"
   ]
  },
  {
   "cell_type": "code",
   "execution_count": null,
   "id": "1b53da11",
   "metadata": {},
   "outputs": [],
   "source": [
    "police_stations_df = pd.read_csv(\"../output_data/Number_of_police_stations_in_each_LGA_2021.csv\")"
   ]
  },
  {
   "cell_type": "code",
   "execution_count": null,
   "id": "7153f2d5",
   "metadata": {},
   "outputs": [],
   "source": [
    "LGA_charge_status_ps_df = pd.merge(police_stations_df, LGA_charge_status_2021_df , how = \"right\", on = \"Local Government Area\")\n",
    "\n",
    "LGA_charge_status_ps_df = LGA_charge_status_ps_df.rename(columns = {\"Incidents Combined\" : \"Incidents Recorded\"} )\n",
    "LGA_charge_status_ps_df"
   ]
  },
  {
   "cell_type": "code",
   "execution_count": null,
   "id": "44d4c6ab",
   "metadata": {
    "scrolled": false
   },
   "outputs": [],
   "source": [
    "charge_solved_df = LGA_charge_status_ps_df.loc[LGA_charge_status_ps_df[\"Charge Status\"] == \"Unsolved\"]\n",
    "unsolved_percentage = charge_solved_df[\"Status Percentage\"]\n",
    "mean_charge = round(np.mean(unsolved_percentage),1)\n",
    "std_charge = round(np.std(unsolved_percentage, ddof = 0),1)\n",
    "print(f\"Mean solved: {mean_charge}%\")\n",
    "print(f\"Median solved: {round(np.median(unsolved_percentage),1)}%\")\n",
    "print(f\"Standard deviation: {std_charge}%\")\n",
    "\n",
    "print(f\"68% of LGA has unsolved charge percentage between {mean_charge - std_charge}% and {mean_charge + std_charge}%\")\n",
    "print(f\"95% of LGA has unsolved charge percentage between {mean_charge - 2 * std_charge}% and {mean_charge + 2 * std_charge}%\")\n",
    "print(f\"99.7% of LGA has unsolved charge percentage between {round(mean_charge - 3 * std_charge,1)}% and {mean_charge + 3 * std_charge}%\")"
   ]
  },
  {
   "cell_type": "code",
   "execution_count": null,
   "id": "4aaeab8f",
   "metadata": {},
   "outputs": [],
   "source": [
    "charge_solved_df.sort_values(\"Status Percentage\",inplace=True)\n",
    "charge_solved_df = charge_solved_df.reset_index()\n",
    "charge_solved_df = charge_solved_df.drop(columns=[\"index\",\"Police Stations in LGA\",\"Year\",\"Total Population\",\"Charge Status\"])\n",
    "charge_solved_df"
   ]
  },
  {
   "cell_type": "code",
   "execution_count": null,
   "id": "bb067a1b",
   "metadata": {},
   "outputs": [],
   "source": [
    "plt.hist(unsolved_percentage)\n",
    "plt.xlabel(\"Unsolved charges - percentage\")\n",
    "plt.ylabel(\"Counts\")\n",
    "plt.style.use(\"default\")\n",
    "plt.title(\"LGA Charge status\")\n",
    "plt.show()\n",
    "print(st.normaltest(unsolved_percentage.sample(50)))"
   ]
  },
  {
   "cell_type": "code",
   "execution_count": null,
   "id": "0831dc3e",
   "metadata": {},
   "outputs": [],
   "source": [
    "fig , ax = plt.subplots()\n",
    "ax.set_title(\"Unsolved charges percentage - all LGA in 2021\")\n",
    "ax.set_ylabel(\"Unsolved charges percentage\")\n",
    "ax.boxplot(unsolved_percentage)\n",
    "plt.show()"
   ]
  },
  {
   "cell_type": "markdown",
   "id": "6feba882",
   "metadata": {},
   "source": [
    "### Conclusion:\n",
    "Data is normally distributed, no outliner identified"
   ]
  },
  {
   "cell_type": "code",
   "execution_count": null,
   "id": "7fbc99ba",
   "metadata": {},
   "outputs": [],
   "source": [
    "# setting up function to show scatter plot by year\n",
    "def scatter_plot(df, year, chargetype, col1, col2):\n",
    "    new_df = df.loc[(df[\"Charge Status\"] == chargetype) & (df[\"Year\"] == year)]\n",
    "    title = str(f\"{col1} vs {col2} \\n {chargetype} charges - {year}\")\n",
    "    new_df.plot(col1, col2, kind = \"scatter\", xlabel = col1, title = title)\n",
    "                \n",
    "    (slope, intercept, rvalue, pvalue, stderr) = linregress(new_df[col1],new_df[col2])\n",
    "    equation = f\"y = {round(slope,2)}x + {round(intercept,2)}\"\n",
    "    x = np.arange(0,new_df[col1].max()+1,1)\n",
    "    y = [slope * x1 + intercept for x1 in x]\n",
    "    \n",
    "    plt.plot(x, y, color = \"red\" )\n",
    "    plt.tight_layout()\n",
    "    plt.style.use(\"Solarize_Light2\")\n",
    "    plt.annotate(equation, (new_df[col1].max()/3*2 , new_df[col2].max()/3), color = \"red\")\n",
    "    print(f\"r-value is %.2f\" %rvalue)"
   ]
  },
  {
   "cell_type": "code",
   "execution_count": null,
   "id": "ccc3860d",
   "metadata": {
    "scrolled": false
   },
   "outputs": [],
   "source": [
    "scatter_plot(LGA_charge_status_ps_df, 2021, \"Unsolved\", \"Police Stations in LGA\",\"Status Percentage\")\n"
   ]
  },
  {
   "cell_type": "code",
   "execution_count": null,
   "id": "1de84511",
   "metadata": {},
   "outputs": [],
   "source": [
    "scatter_plot(LGA_charge_status_ps_df, 2021, \"Solved\", \"Police Stations in LGA\",\"Status Percentage\")"
   ]
  },
  {
   "cell_type": "code",
   "execution_count": null,
   "id": "68ccf10d",
   "metadata": {},
   "outputs": [],
   "source": [
    "scatter_plot(LGA_charge_status_ps_df, 2021, \"Unsolved\", \"Total Population\", \"Status Percentage\")"
   ]
  },
  {
   "cell_type": "code",
   "execution_count": null,
   "id": "3d796eff",
   "metadata": {},
   "outputs": [],
   "source": [
    "scatter_plot(LGA_charge_status_ps_df, 2021, \"Solved\", \"Total Population\", \"Status Percentage\")"
   ]
  },
  {
   "cell_type": "markdown",
   "id": "39063835",
   "metadata": {},
   "source": [
    "# Getting charge percentage and population dataframe for regions"
   ]
  },
  {
   "cell_type": "code",
   "execution_count": null,
   "id": "f5cc7849",
   "metadata": {},
   "outputs": [],
   "source": [
    "# Allocate LGA data to regions\n",
    "LGA_by_Regions_df = pd.read_csv(\"../Output_data/LGA_by_Regions_2012-2021.csv\")\n",
    "LGA_by_Regions_df"
   ]
  },
  {
   "cell_type": "code",
   "execution_count": null,
   "id": "55b6a68e",
   "metadata": {},
   "outputs": [],
   "source": [
    "\n",
    "LGA_charge_status_df = LGA_charge_status_df.rename(columns = {\"Total Population\" : \"Total Population-LGA\",\n",
    "                                                              \"Incidents Combined\" :\"Incidents Combined-LGA\",\n",
    "                                                              \"Status Percentage\" : \"Status Percentage-LGA\"})"
   ]
  },
  {
   "cell_type": "code",
   "execution_count": null,
   "id": "543d1385",
   "metadata": {},
   "outputs": [],
   "source": [
    "\n",
    "region_charge_status_df = pd.merge(LGA_by_Regions_df, LGA_charge_status_df, how = \"right\", on = (\"Year\",\"Local Government Area\"))\n",
    "region_charge_status_df\n",
    "                                   "
   ]
  },
  {
   "cell_type": "code",
   "execution_count": null,
   "id": "c6d68398",
   "metadata": {
    "scrolled": false
   },
   "outputs": [],
   "source": [
    "Regions_population_df = pd.read_csv(\"../Output_data/Population_by_Regions_2012-2021.csv\")\n",
    "region_charge_pop_df = pd.merge(region_charge_status_df, Regions_population_df , how = \"left\" , on = (\"Police Region\", \"Year\"))\n",
    "region_charge_pop_df = region_charge_pop_df.rename(columns = {\"Total Population\":\"Total Population-Regions\"})\n",
    "\n",
    "regions_charge_gb = region_charge_pop_df.groupby([\"Year\", \"Police Region\", \"Charge Status\"])\n",
    "\n",
    "incident_by_charge = regions_charge_gb[\"Incidents Combined-LGA\"].sum()\n",
    "total_incident_by_region = regions_charge_gb[\"Total Incidents-LGA\"].sum()\n",
    "\n",
    "regions_charge_df = pd.DataFrame({\"Status Percentage-Region\": incident_by_charge/total_incident_by_region*100})\n",
    "regions_charge_df.reset_index(level = [0,1,2],inplace = True)                 \n",
    "region_charge_pop_df = pd.merge(regions_charge_df, region_charge_pop_df, how = \"right\" , on = (\"Police Region\", \"Year\", \"Charge Status\"))\n",
    "region_charge_pop_df"
   ]
  },
  {
   "cell_type": "code",
   "execution_count": null,
   "id": "dfe3adfb",
   "metadata": {},
   "outputs": [],
   "source": [
    "unsolved_region_charge_pop_df = region_charge_pop_df.loc[region_charge_pop_df[\"Charge Status\"] == \"Unsolved\"]\n",
    "unsolved_region_charge_pop_df = unsolved_region_charge_pop_df.drop_duplicates(subset = (\"Year\",\"Police Region\"), keep = \"first\")\n",
    "\n",
    "unsolved_region_charge_pop_df = unsolved_region_charge_pop_df[[\"Year\",\"Police Region\",\"Status Percentage-Region\",\"Total Population-Regions\"]]\n",
    "unsolved_region_charge_pop_df.head()"
   ]
  },
  {
   "cell_type": "code",
   "execution_count": null,
   "id": "3c161ab8",
   "metadata": {},
   "outputs": [],
   "source": [
    "# fig, ax = plt.subplot(figsize = (15,15))\n",
    "\n",
    "for name, data in unsolved_region_charge_pop_df.groupby(\"Police Region\"):\n",
    "    plt.plot(data[\"Year\"], data[\"Status Percentage-Region\"], label = name)\n",
    "plt.xlabel(\"Year\")\n",
    "plt.ylabel(\"Status Percentage (%)\")\n",
    "plt.ylim(0,100)\n",
    "plt.title(\"Unsolved charges by regions\")\n",
    "plt.style.use(\"seaborn-notebook\")\n",
    "plt.legend()\n",
    "plt.show()"
   ]
  },
  {
   "cell_type": "code",
   "execution_count": null,
   "id": "d1a6b887",
   "metadata": {},
   "outputs": [],
   "source": [
    "# fig, ax = plt.subplot(figsize = (15,15))\n",
    "\n",
    "for name, data in unsolved_region_charge_pop_df.groupby(\"Police Region\"):\n",
    "    plt.plot(data[\"Year\"], data[\"Total Population-Regions\"], label = name)\n",
    "plt.xlabel(\"Year\")\n",
    "plt.ylabel(\"Population\")\n",
    "plt.title(\"Total Population growth\")\n",
    "plt.style.use(\"seaborn-notebook\")\n",
    "plt.legend()\n",
    "plt.show()"
   ]
  },
  {
   "cell_type": "markdown",
   "id": "6ec35b33",
   "metadata": {},
   "source": [
    "# Draw LGA boundaries and show charges status on the map"
   ]
  },
  {
   "cell_type": "code",
   "execution_count": null,
   "id": "3583d30e",
   "metadata": {},
   "outputs": [],
   "source": [
    "# # getting LGA boundaries\n",
    "# url = \"https://data.gov.au/geoserver/vic-local-government-areas-psma-administrative-boundaries/wfs?request=GetFeature&typeName=ckan_bdf92691_c6fe_42b9_a0e2_a4cd716fa811&outputFormat=json\"\n",
    "# response = requests.get(url).json()\n",
    "\n",
    "# # # Save response to local Data folder\n",
    "# with open('../Data/LGA_boundaries.json', 'w') as json_file:\n",
    "#     json.dump(response, json_file)"
   ]
  },
  {
   "cell_type": "code",
   "execution_count": null,
   "id": "43911dbe",
   "metadata": {},
   "outputs": [],
   "source": [
    "boundaries = gpd.read_file('../Data/LGA_boundaries.json')\n",
    "\n",
    "LGA_boundaries = boundaries[[\"vic_lga__3\", \"geometry\"]]\n",
    "LGA_boundaries = LGA_boundaries.rename(columns = {\"vic_lga__3\": \"LGA\"} )\n",
    "\n",
    "LGA_boundaries[\"LGA\"] = LGA_boundaries[\"LGA\"].str.title()\n",
    "\n",
    "LGA_boundaries[\"LGA\"] = LGA_boundaries[\"LGA\"].replace(\"Colac Otway\",\"Colac-Otway\")\n",
    "\n",
    "LGA_boundaries"
   ]
  },
  {
   "cell_type": "code",
   "execution_count": null,
   "id": "0b1bf4ba",
   "metadata": {},
   "outputs": [],
   "source": [
    "solved_charge_percentage = LGA_charge_status_ps_df.loc[LGA_charge_status_ps_df[\"Charge Status\"] == \"Unsolved\"]\n",
    "solved_charge_percentage = solved_charge_percentage[[\"Local Government Area\", \"Status Percentage\"]]\n",
    "solved_charge_percentage = solved_charge_percentage.rename(columns = {\"Local Government Area\":\"LGA\"})\n",
    "solved_charge_percentage"
   ]
  },
  {
   "cell_type": "code",
   "execution_count": null,
   "id": "cfba9a47",
   "metadata": {},
   "outputs": [],
   "source": [
    "LGA_boundaries = LGA_boundaries.merge(solved_charge_percentage,how = \"left\" , on = \"LGA\")"
   ]
  },
  {
   "cell_type": "code",
   "execution_count": null,
   "id": "b056b87a",
   "metadata": {
    "scrolled": true
   },
   "outputs": [],
   "source": [
    "LGA_boundaries.loc[LGA_boundaries[\"Status Percentage\"].isna()]"
   ]
  },
  {
   "cell_type": "code",
   "execution_count": null,
   "id": "c2a563c3",
   "metadata": {},
   "outputs": [],
   "source": [
    "LGA_boundaries = LGA_boundaries.dropna()"
   ]
  },
  {
   "cell_type": "code",
   "execution_count": null,
   "id": "5845e9a3",
   "metadata": {},
   "outputs": [],
   "source": [
    "LGA_boundaries"
   ]
  },
  {
   "cell_type": "code",
   "execution_count": null,
   "id": "0ad8e349",
   "metadata": {},
   "outputs": [],
   "source": [
    "len(LGA_boundaries)"
   ]
  },
  {
   "cell_type": "code",
   "execution_count": null,
   "id": "45e43390",
   "metadata": {},
   "outputs": [],
   "source": [
    "# There should be 79 LGAs\n",
    "LGA_boundaries.drop_duplicates(subset=\"LGA\", keep = \"first\", inplace=True)"
   ]
  },
  {
   "cell_type": "code",
   "execution_count": null,
   "id": "21de7f14",
   "metadata": {},
   "outputs": [],
   "source": [
    "with open('../Data/VMFEAT_POLICE_STATION.json') as f:\n",
    "    js = json.load(f)\n",
    "policeStations = gpd.read_file('../Data/VMFEAT_POLICE_STATION.json')"
   ]
  },
  {
   "cell_type": "code",
   "execution_count": null,
   "id": "1308c1d3",
   "metadata": {},
   "outputs": [],
   "source": []
  },
  {
   "cell_type": "code",
   "execution_count": null,
   "id": "6bcaee64",
   "metadata": {
    "scrolled": false
   },
   "outputs": [],
   "source": [
    "f, ax = plt.subplots(1, figsize = (15,15))\n",
    "# plt.style.use(\"seaborn-notebook\") #\"Solarize_Light2\"\n",
    "LGA_boundaries.plot(\"Status Percentage\", cmap = \"seismic\", ax = ax, legend = True, \n",
    "                        edgecolor = \"black\", alpha = 0.5, legend_kwds={'label': \"Charge percentage(%)\",\n",
    "                                                                  'orientation': \"horizontal\"\n",
    "                                                                      })\n",
    "policeStations.plot(ax = ax, color = \"blue\", marker = \"*\", markersize = 10)\n",
    "plt.title(\"Police stations in Victoria\", fontdict = {'fontsize' : 16, 'color': \"blue\"})\n",
    "plt.style.use(\"seaborn-notebook\")#\"Solarize_Light2\"\n",
    "# plt.show_legend()\n",
    "plt.show()"
   ]
  },
  {
   "cell_type": "code",
   "execution_count": null,
   "id": "42273fab",
   "metadata": {
    "scrolled": false
   },
   "outputs": [],
   "source": [
    "# # Map for readme file\n",
    "# LGA_boundaries.explore(scheme=\"naturalbreaks\")"
   ]
  },
  {
   "cell_type": "markdown",
   "id": "a3108aee",
   "metadata": {},
   "source": [
    "# Getting Administrative Region boundaries"
   ]
  },
  {
   "cell_type": "code",
   "execution_count": null,
   "id": "8ddfe3b2",
   "metadata": {},
   "outputs": [],
   "source": [
    "# # getting regions boundaries\n",
    "# url = \"https://vicroadsopendata-vicroadsmaps.opendata.arcgis.com/datasets/a6e912737f234c5b825242ceb19a33b1_0.geojson?outSR=%7B%22latestWkid%22%3A3111%2C%22wkid%22%3A102171%7D\"\n",
    "# response = requests.get(url).json()\n",
    "\n",
    "# # # Save response to local Data folder\n",
    "# with open('../Data/region_boundaries.json', 'w') as json_file:\n",
    "#     json.dump(response, json_file)"
   ]
  },
  {
   "cell_type": "code",
   "execution_count": null,
   "id": "6948cbb0",
   "metadata": {},
   "outputs": [],
   "source": [
    "region_boundaries = gpd.read_file('../Data/region_boundaries.json')"
   ]
  },
  {
   "cell_type": "code",
   "execution_count": null,
   "id": "6cdd50c3",
   "metadata": {},
   "outputs": [],
   "source": [
    "region_boundaries"
   ]
  },
  {
   "cell_type": "code",
   "execution_count": null,
   "id": "1e4b9ada",
   "metadata": {
    "scrolled": false
   },
   "outputs": [],
   "source": [
    "region_boundaries.plot(column = \"REG_NAME\",cmap = \"Paired\",legend = True, edgecolor = \"red\", alpha = 0.5)\n",
    "plt.title(\"Administrative boundaries in Victoria\", fontdict = {'fontsize' : 16, 'color': \"blue\"})"
   ]
  },
  {
   "cell_type": "markdown",
   "id": "d22c2a86",
   "metadata": {},
   "source": [
    "# Getting Administrative Region boundaries"
   ]
  },
  {
   "cell_type": "code",
   "execution_count": null,
   "id": "60b6632a",
   "metadata": {},
   "outputs": [],
   "source": [
    "# getting region boundaries\n",
    "LGA_by_Regions_df = LGA_by_Regions_df.loc[LGA_by_Regions_df[\"Year\"]==2021]\n",
    "LGA_by_Regions_df = LGA_by_Regions_df.rename(columns = {\"Local Government Area\":\"LGA\"})"
   ]
  },
  {
   "cell_type": "code",
   "execution_count": null,
   "id": "afeac0ab",
   "metadata": {},
   "outputs": [],
   "source": [
    "LGA_by_Regions_df"
   ]
  },
  {
   "cell_type": "code",
   "execution_count": null,
   "id": "e3823cf2",
   "metadata": {},
   "outputs": [],
   "source": [
    "regions = LGA_boundaries.merge(LGA_by_Regions_df, how = \"left\", on = \"LGA\")"
   ]
  },
  {
   "cell_type": "code",
   "execution_count": null,
   "id": "832efa52",
   "metadata": {},
   "outputs": [],
   "source": [
    "regions"
   ]
  },
  {
   "cell_type": "code",
   "execution_count": null,
   "id": "0e168f73",
   "metadata": {},
   "outputs": [],
   "source": [
    "regions = regions[[\"Police Region\" , \"geometry\"]]\n",
    "PSA_regions_boundaries = regions.dissolve(by = \"Police Region\")\n",
    "\n",
    "PSA_regions_boundaries.reset_index(level = [0], inplace= True)\n",
    "\n",
    "PSA_regions_boundaries"
   ]
  },
  {
   "cell_type": "code",
   "execution_count": null,
   "id": "8ff88213",
   "metadata": {
    "scrolled": false
   },
   "outputs": [],
   "source": [
    "PSA_regions_boundaries.plot(column = \"Police Region\",cmap = \"Paired\",legend = True, edgecolor = \"red\", alpha = 0.5)\n",
    "plt.title(\"Police Service Area boundaries in Victoria\", fontdict = {'fontsize' : 16, 'color': \"blue\"})"
   ]
  },
  {
   "cell_type": "code",
   "execution_count": null,
   "id": "16c3ba03",
   "metadata": {},
   "outputs": [],
   "source": [
    "f, ax = plt.subplots(1, figsize = (15,15))\n",
    "plt.style.use(\"seaborn-notebook\") #\"Solarize_Light2\"\n",
    "LGA_boundaries.plot(\"Status Percentage\", cmap = \"seismic\", ax = ax, legend = True, \n",
    "                        edgecolor = \"black\", alpha = 0.5, legend_kwds={'label': \"Charge percentage(%)\",\n",
    "                                                                  'orientation': \"horizontal\",\n",
    "                                                                      })\n",
    "PSA_regions_boundaries.plot(\"Police Region\", ax = ax, facecolor = \"none\", edgecolor = \"black\", linewidth = 1.2, legend = True)\n",
    "policeStations.plot(ax = ax, color = \"blue\", marker = \"*\", markersize = 10)\n",
    "plt.title(\"Police stations in Victoria\", fontdict = {'fontsize' : 16, 'color': \"blue\"})\n"
   ]
  },
  {
   "cell_type": "code",
   "execution_count": null,
   "id": "28c30e21",
   "metadata": {},
   "outputs": [],
   "source": []
  }
 ],
 "metadata": {
  "kernelspec": {
   "display_name": "Python 3",
   "language": "python",
   "name": "python3"
  },
  "language_info": {
   "codemirror_mode": {
    "name": "ipython",
    "version": 3
   },
   "file_extension": ".py",
   "mimetype": "text/x-python",
   "name": "python",
   "nbconvert_exporter": "python",
   "pygments_lexer": "ipython3",
   "version": "3.8.8"
  }
 },
 "nbformat": 4,
 "nbformat_minor": 5
}
